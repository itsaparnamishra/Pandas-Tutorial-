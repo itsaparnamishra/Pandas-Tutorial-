{
 "cells": [
  {
   "cell_type": "code",
   "execution_count": 1,
   "id": "available-toyota",
   "metadata": {},
   "outputs": [
    {
     "data": {
      "text/plain": [
       "array([[1, 2],\n",
       "       [3, 6],\n",
       "       [7, 8]])"
      ]
     },
     "execution_count": 1,
     "metadata": {},
     "output_type": "execute_result"
    }
   ],
   "source": [
    "#creating a (3,2) matrix\n",
    "\n",
    "\n",
    "import numpy as np\n",
    "a = np.array([[1,2,3],[6,7,8]]).reshape(3,2)\n",
    "a"
   ]
  },
  {
   "cell_type": "code",
   "execution_count": 2,
   "id": "million-milan",
   "metadata": {},
   "outputs": [
    {
     "data": {
      "text/plain": [
       "array([[3. , 3.2, 3.4, 3.6, 3.8, 4. , 4.2],\n",
       "       [4.4, 4.6, 4.8, 5. , 5.2, 5.4, 5.6],\n",
       "       [5.8, 6. , 6.2, 6.4, 6.6, 6.8, 7. ],\n",
       "       [7.2, 7.4, 7.6, 7.8, 8. , 8.2, 8.4],\n",
       "       [8.6, 8.8, 9. , 9.2, 9.4, 9.6, 9.8]])"
      ]
     },
     "execution_count": 2,
     "metadata": {},
     "output_type": "execute_result"
    }
   ],
   "source": [
    "#shape method used to shape the number of rows and columns \n",
    "\n",
    "\n",
    "b = np.arange(3,10,0.2)\n",
    "b.shape = (5,7)\n",
    "b"
   ]
  },
  {
   "cell_type": "code",
   "execution_count": 3,
   "id": "molecular-productivity",
   "metadata": {},
   "outputs": [
    {
     "data": {
      "text/plain": [
       "array([[11,  2],\n",
       "       [33,  4],\n",
       "       [ 7,  9]])"
      ]
     },
     "execution_count": 3,
     "metadata": {},
     "output_type": "execute_result"
    }
   ],
   "source": [
    "#reshape method is used to rehspae the matrix into the re number of rows and columns \n",
    "# But the total number of elements in the matrix should be equal to product of rows and columns \n",
    "\n",
    "arr =np.array([[11,2,33],[4,7,9]]).reshape(3,2)\n",
    "arr"
   ]
  },
  {
   "cell_type": "code",
   "execution_count": 4,
   "id": "addressed-pacific",
   "metadata": {},
   "outputs": [
    {
     "data": {
      "text/plain": [
       "array([ 0,  1,  2,  3,  4,  5,  6,  7,  8,  9, 10, 11, 12, 13, 14, 15, 16,\n",
       "       17, 18, 19, 20, 21, 22, 23])"
      ]
     },
     "execution_count": 4,
     "metadata": {},
     "output_type": "execute_result"
    }
   ],
   "source": [
    "#arange method to create a 1-D array\n",
    "\n",
    "arr1 = np.arange(24)\n",
    "arr1"
   ]
  },
  {
   "cell_type": "code",
   "execution_count": 5,
   "id": "mathematical-advocate",
   "metadata": {},
   "outputs": [
    {
     "data": {
      "text/plain": [
       "array([[[ 0,  1,  2,  3],\n",
       "        [ 4,  5,  6,  7],\n",
       "        [ 8,  9, 10, 11]],\n",
       "\n",
       "       [[12, 13, 14, 15],\n",
       "        [16, 17, 18, 19],\n",
       "        [20, 21, 22, 23]]])"
      ]
     },
     "execution_count": 5,
     "metadata": {},
     "output_type": "execute_result"
    }
   ],
   "source": [
    "arr1.reshape(2,3,4)"
   ]
  },
  {
   "cell_type": "code",
   "execution_count": 6,
   "id": "willing-drove",
   "metadata": {},
   "outputs": [
    {
     "data": {
      "text/plain": [
       "array([[[ 0,  1,  2,  3],\n",
       "        [ 4,  5,  6,  7]],\n",
       "\n",
       "       [[ 8,  9, 10, 11],\n",
       "        [12, 13, 14, 15]],\n",
       "\n",
       "       [[16, 17, 18, 19],\n",
       "        [20, 21, 22, 23]]])"
      ]
     },
     "execution_count": 6,
     "metadata": {},
     "output_type": "execute_result"
    }
   ],
   "source": [
    "arr1.reshape(3,2,4)"
   ]
  },
  {
   "cell_type": "code",
   "execution_count": 7,
   "id": "mathematical-framing",
   "metadata": {},
   "outputs": [
    {
     "data": {
      "text/plain": [
       "8"
      ]
     },
     "execution_count": 7,
     "metadata": {},
     "output_type": "execute_result"
    }
   ],
   "source": [
    "arr1.itemsize  #itemsize is used to check the size of the matrix"
   ]
  },
  {
   "cell_type": "code",
   "execution_count": 8,
   "id": "occasional-track",
   "metadata": {},
   "outputs": [
    {
     "data": {
      "text/plain": [
       "array([ 0,  1,  2,  3,  4,  5,  6,  7,  8,  9, 10, 11, 12, 13, 14, 15, 16,\n",
       "       17, 18, 19, 20, 21, 22, 23])"
      ]
     },
     "execution_count": 8,
     "metadata": {},
     "output_type": "execute_result"
    }
   ],
   "source": [
    "arr1"
   ]
  },
  {
   "cell_type": "code",
   "execution_count": 9,
   "id": "caroline-highway",
   "metadata": {},
   "outputs": [
    {
     "data": {
      "text/plain": [
       "1"
      ]
     },
     "execution_count": 9,
     "metadata": {},
     "output_type": "execute_result"
    }
   ],
   "source": [
    "arr1.ndim   #ndim to check the dimension of the matrix"
   ]
  },
  {
   "cell_type": "code",
   "execution_count": 10,
   "id": "ranking-shade",
   "metadata": {},
   "outputs": [
    {
     "data": {
      "text/plain": [
       "array([[[ 0,  1],\n",
       "        [ 2,  3],\n",
       "        [ 4,  5],\n",
       "        [ 6,  7]],\n",
       "\n",
       "       [[ 8,  9],\n",
       "        [10, 11],\n",
       "        [12, 13],\n",
       "        [14, 15]],\n",
       "\n",
       "       [[16, 17],\n",
       "        [18, 19],\n",
       "        [20, 21],\n",
       "        [22, 23]]])"
      ]
     },
     "execution_count": 10,
     "metadata": {},
     "output_type": "execute_result"
    }
   ],
   "source": [
    "arr1.reshape(3,4,2)   "
   ]
  },
  {
   "cell_type": "code",
   "execution_count": 11,
   "id": "rubber-diagram",
   "metadata": {},
   "outputs": [
    {
     "data": {
      "text/plain": [
       "1"
      ]
     },
     "execution_count": 11,
     "metadata": {},
     "output_type": "execute_result"
    }
   ],
   "source": [
    "arr1.ndim"
   ]
  },
  {
   "cell_type": "code",
   "execution_count": 12,
   "id": "persistent-trade",
   "metadata": {},
   "outputs": [
    {
     "data": {
      "text/plain": [
       "array([1, 2, 3, 4])"
      ]
     },
     "execution_count": 12,
     "metadata": {},
     "output_type": "execute_result"
    }
   ],
   "source": [
    "c = np.array([1,2,3,4],dtype = np.int64)   #dtype is used to determine the datatype before hand  \n",
    "c                       "
   ]
  },
  {
   "cell_type": "code",
   "execution_count": 13,
   "id": "other-branch",
   "metadata": {},
   "outputs": [
    {
     "data": {
      "text/plain": [
       "8"
      ]
     },
     "execution_count": 13,
     "metadata": {},
     "output_type": "execute_result"
    }
   ],
   "source": [
    "c.itemsize"
   ]
  },
  {
   "cell_type": "code",
   "execution_count": 14,
   "id": "touched-actress",
   "metadata": {},
   "outputs": [
    {
     "data": {
      "text/plain": [
       "  C_CONTIGUOUS : True\n",
       "  F_CONTIGUOUS : True\n",
       "  OWNDATA : True\n",
       "  WRITEABLE : True\n",
       "  ALIGNED : True\n",
       "  WRITEBACKIFCOPY : False\n",
       "  UPDATEIFCOPY : False"
      ]
     },
     "execution_count": 14,
     "metadata": {},
     "output_type": "execute_result"
    }
   ],
   "source": [
    "c.flags"
   ]
  },
  {
   "cell_type": "code",
   "execution_count": 15,
   "id": "peaceful-colon",
   "metadata": {},
   "outputs": [
    {
     "data": {
      "text/plain": [
       "array([[1, 2, 3, 4],\n",
       "       [5, 6, 7, 8],\n",
       "       [8, 9, 1, 2]], dtype=int8)"
      ]
     },
     "execution_count": 15,
     "metadata": {},
     "output_type": "execute_result"
    }
   ],
   "source": [
    "d = np.array([[1,2,3,4],[5,6,7,8],[8,9,1,2]],dtype = np.int8)\n",
    "d"
   ]
  },
  {
   "cell_type": "code",
   "execution_count": 16,
   "id": "unknown-phoenix",
   "metadata": {},
   "outputs": [
    {
     "data": {
      "text/plain": [
       "  C_CONTIGUOUS : True\n",
       "  F_CONTIGUOUS : False\n",
       "  OWNDATA : True\n",
       "  WRITEABLE : True\n",
       "  ALIGNED : True\n",
       "  WRITEBACKIFCOPY : False\n",
       "  UPDATEIFCOPY : False"
      ]
     },
     "execution_count": 16,
     "metadata": {},
     "output_type": "execute_result"
    }
   ],
   "source": [
    "d.flags"
   ]
  },
  {
   "cell_type": "code",
   "execution_count": 17,
   "id": "collective-accident",
   "metadata": {},
   "outputs": [
    {
     "data": {
      "text/plain": [
       "array([[0., 0., 0., 0., 0., 0.],\n",
       "       [0., 0., 0., 0., 0., 0.],\n",
       "       [0., 0., 0., 0., 0., 0.],\n",
       "       [0., 0., 0., 0., 0., 0.],\n",
       "       [0., 0., 0., 0., 0., 0.],\n",
       "       [0., 0., 0., 0., 0., 0.]])"
      ]
     },
     "execution_count": 17,
     "metadata": {},
     "output_type": "execute_result"
    }
   ],
   "source": [
    "e = np.zeros((6,6)) #dtype =float    #to create a matrix with 0 elements\n",
    "e"
   ]
  },
  {
   "cell_type": "code",
   "execution_count": 18,
   "id": "suspected-accountability",
   "metadata": {},
   "outputs": [
    {
     "data": {
      "text/plain": [
       "array([0., 0., 0., 0., 0., 0., 0.])"
      ]
     },
     "execution_count": 18,
     "metadata": {},
     "output_type": "execute_result"
    }
   ],
   "source": [
    "e = np.zeros(7)\n",
    "e"
   ]
  },
  {
   "cell_type": "code",
   "execution_count": 19,
   "id": "artistic-pendant",
   "metadata": {},
   "outputs": [
    {
     "data": {
      "text/plain": [
       "array([[0, 0, 0],\n",
       "       [0, 0, 0],\n",
       "       [0, 0, 0]])"
      ]
     },
     "execution_count": 19,
     "metadata": {},
     "output_type": "execute_result"
    }
   ],
   "source": [
    "f = np.zeros((3,3),dtype = np.int) #not float\n",
    "f"
   ]
  },
  {
   "cell_type": "code",
   "execution_count": 20,
   "id": "narrow-tackle",
   "metadata": {},
   "outputs": [
    {
     "data": {
      "text/plain": [
       "array([0, 0, 0, 0, 0, 0, 0, 0, 0])"
      ]
     },
     "execution_count": 20,
     "metadata": {},
     "output_type": "execute_result"
    }
   ],
   "source": [
    "f.ravel() #arranges the elements in a single row   "
   ]
  },
  {
   "cell_type": "code",
   "execution_count": 21,
   "id": "special-british",
   "metadata": {},
   "outputs": [
    {
     "data": {
      "text/plain": [
       "array([[1, 1, 1, 1],\n",
       "       [1, 1, 1, 1],\n",
       "       [1, 1, 1, 1]])"
      ]
     },
     "execution_count": 21,
     "metadata": {},
     "output_type": "execute_result"
    }
   ],
   "source": [
    "g = np.ones((3,4),dtype = np.int,order ='C')\n",
    "g             # to create a matrix with elements '1'"
   ]
  },
  {
   "cell_type": "code",
   "execution_count": 22,
   "id": "caring-argentina",
   "metadata": {},
   "outputs": [
    {
     "data": {
      "text/plain": [
       "  C_CONTIGUOUS : True\n",
       "  F_CONTIGUOUS : False\n",
       "  OWNDATA : True\n",
       "  WRITEABLE : True\n",
       "  ALIGNED : True\n",
       "  WRITEBACKIFCOPY : False\n",
       "  UPDATEIFCOPY : False"
      ]
     },
     "execution_count": 22,
     "metadata": {},
     "output_type": "execute_result"
    }
   ],
   "source": [
    "g.flags"
   ]
  },
  {
   "cell_type": "code",
   "execution_count": 23,
   "id": "numerous-tattoo",
   "metadata": {},
   "outputs": [
    {
     "data": {
      "text/plain": [
       "array([[1, 1, 1],\n",
       "       [1, 1, 1],\n",
       "       [1, 1, 1],\n",
       "       [1, 1, 1]], dtype=int8)"
      ]
     },
     "execution_count": 23,
     "metadata": {},
     "output_type": "execute_result"
    }
   ],
   "source": [
    "g = np.ones((4,3),dtype = np.int8)\n",
    "g"
   ]
  },
  {
   "cell_type": "code",
   "execution_count": 24,
   "id": "careful-assist",
   "metadata": {},
   "outputs": [
    {
     "data": {
      "text/plain": [
       "array([[1., 0., 0.],\n",
       "       [0., 1., 0.],\n",
       "       [0., 0., 1.]])"
      ]
     },
     "execution_count": 24,
     "metadata": {},
     "output_type": "execute_result"
    }
   ],
   "source": [
    "h = np.eye(3) #create a 3 by 3 identity matrix\n",
    "h                      "
   ]
  },
  {
   "cell_type": "code",
   "execution_count": 25,
   "id": "african-reset",
   "metadata": {},
   "outputs": [
    {
     "data": {
      "text/plain": [
       "array([[1., 1.],\n",
       "       [1., 1.]])"
      ]
     },
     "execution_count": 25,
     "metadata": {},
     "output_type": "execute_result"
    }
   ],
   "source": [
    "x = np.ones([2,2],dtype = np.float)\n",
    "x     "
   ]
  },
  {
   "cell_type": "code",
   "execution_count": 26,
   "id": "suburban-support",
   "metadata": {},
   "outputs": [
    {
     "data": {
      "text/plain": [
       "(array([2., 2.]), array([2., 2.]))"
      ]
     },
     "execution_count": 26,
     "metadata": {},
     "output_type": "execute_result"
    }
   ],
   "source": [
    "x.sum(0),x.sum(1)"
   ]
  },
  {
   "cell_type": "code",
   "execution_count": 27,
   "id": "grand-jersey",
   "metadata": {},
   "outputs": [
    {
     "data": {
      "text/plain": [
       "array([[1., 1.],\n",
       "       [1., 1.]])"
      ]
     },
     "execution_count": 27,
     "metadata": {},
     "output_type": "execute_result"
    }
   ],
   "source": [
    "x "
   ]
  },
  {
   "cell_type": "code",
   "execution_count": 28,
   "id": "aboriginal-galaxy",
   "metadata": {},
   "outputs": [
    {
     "data": {
      "text/plain": [
       "array([[1., 1.],\n",
       "       [1., 1.]])"
      ]
     },
     "execution_count": 28,
     "metadata": {},
     "output_type": "execute_result"
    }
   ],
   "source": [
    "y = np.asarray(x) #asarray helps in creating an array from existing data\n",
    "y "
   ]
  },
  {
   "cell_type": "code",
   "execution_count": 29,
   "id": "vietnamese-appraisal",
   "metadata": {},
   "outputs": [
    {
     "data": {
      "text/plain": [
       "array([[1, 1],\n",
       "       [1, 1]], dtype=int8)"
      ]
     },
     "execution_count": 29,
     "metadata": {},
     "output_type": "execute_result"
    }
   ],
   "source": [
    "z = np.asarray(y,dtype = np.int8)\n",
    "z"
   ]
  },
  {
   "cell_type": "code",
   "execution_count": 30,
   "id": "advised-reputation",
   "metadata": {},
   "outputs": [
    {
     "data": {
      "text/plain": [
       "array([[1., 0., 0.],\n",
       "       [0., 1., 0.],\n",
       "       [0., 0., 1.]])"
      ]
     },
     "execution_count": 30,
     "metadata": {},
     "output_type": "execute_result"
    }
   ],
   "source": [
    "h"
   ]
  },
  {
   "cell_type": "code",
   "execution_count": 31,
   "id": "extraordinary-convergence",
   "metadata": {},
   "outputs": [
    {
     "data": {
      "text/plain": [
       "array([[1, 0, 0],\n",
       "       [0, 1, 0],\n",
       "       [0, 0, 1]], dtype=int8)"
      ]
     },
     "execution_count": 31,
     "metadata": {},
     "output_type": "execute_result"
    }
   ],
   "source": [
    "h1 = np.asarray(h,dtype = np.int8)\n",
    "h1"
   ]
  },
  {
   "cell_type": "code",
   "execution_count": 32,
   "id": "italian-brook",
   "metadata": {},
   "outputs": [
    {
     "data": {
      "text/plain": [
       "array([[1, 2],\n",
       "       [3, 4],\n",
       "       [5, 6],\n",
       "       [7, 8]])"
      ]
     },
     "execution_count": 32,
     "metadata": {},
     "output_type": "execute_result"
    }
   ],
   "source": [
    "h2 = (1,2,3,4,5,6,7,8)\n",
    "h3 = np.asarray(h2).reshape((4,2))\n",
    "h3"
   ]
  },
  {
   "cell_type": "code",
   "execution_count": 33,
   "id": "stunning-density",
   "metadata": {},
   "outputs": [
    {
     "data": {
      "text/plain": [
       "(7,\n",
       " 0,\n",
       " array([[0, 0],\n",
       "        [1, 1],\n",
       "        [2, 2],\n",
       "        [3, 3]]),\n",
       " array([[0, 1],\n",
       "        [0, 1],\n",
       "        [0, 1],\n",
       "        [0, 1]]))"
      ]
     },
     "execution_count": 33,
     "metadata": {},
     "output_type": "execute_result"
    }
   ],
   "source": [
    "h3.argmax(),h3.argmin(),h3.argsort(0),h3.argsort(1)"
   ]
  },
  {
   "cell_type": "code",
   "execution_count": 34,
   "id": "fluid-progressive",
   "metadata": {},
   "outputs": [
    {
     "data": {
      "text/plain": [
       "array([[1, 2, 3],\n",
       "       [4, 5, 6],\n",
       "       [7, 1, 0]])"
      ]
     },
     "execution_count": 34,
     "metadata": {},
     "output_type": "execute_result"
    }
   ],
   "source": [
    "arr = np.array([[1,2,3],[4,5,6],[7,1,0]])\n",
    "arr"
   ]
  },
  {
   "cell_type": "code",
   "execution_count": 35,
   "id": "egyptian-major",
   "metadata": {},
   "outputs": [
    {
     "data": {
      "text/plain": [
       "array([2, 1, 1])"
      ]
     },
     "execution_count": 35,
     "metadata": {},
     "output_type": "execute_result"
    }
   ],
   "source": [
    "arr.argmax(0)"
   ]
  },
  {
   "cell_type": "code",
   "execution_count": 36,
   "id": "surgical-audit",
   "metadata": {},
   "outputs": [
    {
     "data": {
      "text/plain": [
       "array([0, 2, 2])"
      ]
     },
     "execution_count": 36,
     "metadata": {},
     "output_type": "execute_result"
    }
   ],
   "source": [
    "arr.argmin(0)"
   ]
  },
  {
   "cell_type": "code",
   "execution_count": 37,
   "id": "ahead-photograph",
   "metadata": {},
   "outputs": [
    {
     "data": {
      "text/plain": [
       "(array([2, 2, 0]), array([0, 0, 2]))"
      ]
     },
     "execution_count": 37,
     "metadata": {},
     "output_type": "execute_result"
    }
   ],
   "source": [
    "arr.argmax(1),arr.argmin(1)"
   ]
  },
  {
   "cell_type": "code",
   "execution_count": 38,
   "id": "chubby-messenger",
   "metadata": {},
   "outputs": [
    {
     "data": {
      "text/plain": [
       "(array([[0, 2, 2],\n",
       "        [1, 0, 0],\n",
       "        [2, 1, 1]]),\n",
       " array([[0, 1, 2],\n",
       "        [0, 1, 2],\n",
       "        [2, 1, 0]]))"
      ]
     },
     "execution_count": 38,
     "metadata": {},
     "output_type": "execute_result"
    }
   ],
   "source": [
    "arr.argsort(0),arr.argsort(1)"
   ]
  },
  {
   "cell_type": "code",
   "execution_count": 39,
   "id": "limiting-sunday",
   "metadata": {},
   "outputs": [
    {
     "data": {
      "text/plain": [
       "array([[ 1,  3,  7],\n",
       "       [ 8, 11, 23],\n",
       "       [77,  2,  4]])"
      ]
     },
     "execution_count": 39,
     "metadata": {},
     "output_type": "execute_result"
    }
   ],
   "source": [
    "arr1 = np.array([[1,3,7],[8,11,23],[77,2,4]])\n",
    "arr1"
   ]
  },
  {
   "cell_type": "code",
   "execution_count": 40,
   "id": "about-battlefield",
   "metadata": {},
   "outputs": [
    {
     "data": {
      "text/plain": [
       "array([2, 1, 1])"
      ]
     },
     "execution_count": 40,
     "metadata": {},
     "output_type": "execute_result"
    }
   ],
   "source": [
    "arr1.argmax(0)"
   ]
  },
  {
   "cell_type": "code",
   "execution_count": 41,
   "id": "given-testing",
   "metadata": {},
   "outputs": [
    {
     "data": {
      "text/plain": [
       "array([[0, 2, 2],\n",
       "       [1, 0, 0],\n",
       "       [2, 1, 1]])"
      ]
     },
     "execution_count": 41,
     "metadata": {},
     "output_type": "execute_result"
    }
   ],
   "source": [
    "arr1.argsort(0)"
   ]
  },
  {
   "cell_type": "code",
   "execution_count": 42,
   "id": "labeled-native",
   "metadata": {},
   "outputs": [
    {
     "data": {
      "text/plain": [
       "array([[0, 1, 2],\n",
       "       [0, 1, 2],\n",
       "       [1, 2, 0]])"
      ]
     },
     "execution_count": 42,
     "metadata": {},
     "output_type": "execute_result"
    }
   ],
   "source": [
    "arr1.argsort(1)"
   ]
  },
  {
   "cell_type": "code",
   "execution_count": 43,
   "id": "elementary-nebraska",
   "metadata": {},
   "outputs": [
    {
     "data": {
      "text/plain": [
       "array([2, 1, 1])"
      ]
     },
     "execution_count": 43,
     "metadata": {},
     "output_type": "execute_result"
    }
   ],
   "source": [
    "arr1.argmax(0)"
   ]
  },
  {
   "cell_type": "code",
   "execution_count": 44,
   "id": "russian-infrared",
   "metadata": {},
   "outputs": [
    {
     "data": {
      "text/plain": [
       "array([0, 2, 2])"
      ]
     },
     "execution_count": 44,
     "metadata": {},
     "output_type": "execute_result"
    }
   ],
   "source": [
    "arr1.argmin(0)"
   ]
  },
  {
   "cell_type": "code",
   "execution_count": 45,
   "id": "downtown-hello",
   "metadata": {},
   "outputs": [
    {
     "data": {
      "text/plain": [
       "array([2, 2, 0])"
      ]
     },
     "execution_count": 45,
     "metadata": {},
     "output_type": "execute_result"
    }
   ],
   "source": [
    "arr1.argmax(1)"
   ]
  },
  {
   "cell_type": "code",
   "execution_count": 46,
   "id": "authentic-delaware",
   "metadata": {},
   "outputs": [
    {
     "data": {
      "text/plain": [
       "array([0, 0, 1])"
      ]
     },
     "execution_count": 46,
     "metadata": {},
     "output_type": "execute_result"
    }
   ],
   "source": [
    "arr1.argmin(1)"
   ]
  },
  {
   "cell_type": "code",
   "execution_count": 47,
   "id": "surrounded-antigua",
   "metadata": {},
   "outputs": [
    {
     "data": {
      "text/plain": [
       "array([[ 1,  8, 77],\n",
       "       [ 3, 11,  2],\n",
       "       [ 7, 23,  4]])"
      ]
     },
     "execution_count": 47,
     "metadata": {},
     "output_type": "execute_result"
    }
   ],
   "source": [
    "arr1.T"
   ]
  },
  {
   "cell_type": "code",
   "execution_count": 48,
   "id": "noted-cemetery",
   "metadata": {},
   "outputs": [
    {
     "name": "stdout",
     "output_type": "stream",
     "text": [
      "1\n",
      "3\n",
      "7\n",
      "8\n",
      "11\n",
      "23\n",
      "77\n",
      "2\n",
      "4\n"
     ]
    }
   ],
   "source": [
    "for i in arr1.flat: #arranges in a vertical line\n",
    "    print(i)"
   ]
  },
  {
   "cell_type": "code",
   "execution_count": 49,
   "id": "exempt-point",
   "metadata": {},
   "outputs": [
    {
     "data": {
      "text/plain": [
       "array([ 1,  3,  7,  8, 11, 23, 77,  2,  4])"
      ]
     },
     "execution_count": 49,
     "metadata": {},
     "output_type": "execute_result"
    }
   ],
   "source": [
    "arr1.ravel()#arranges in a horizontal line"
   ]
  },
  {
   "cell_type": "code",
   "execution_count": 50,
   "id": "geographic-arkansas",
   "metadata": {},
   "outputs": [
    {
     "data": {
      "text/plain": [
       "array([[ 1],\n",
       "       [ 3],\n",
       "       [ 7],\n",
       "       [ 8],\n",
       "       [11],\n",
       "       [23],\n",
       "       [77],\n",
       "       [ 2],\n",
       "       [ 4]])"
      ]
     },
     "execution_count": 50,
     "metadata": {},
     "output_type": "execute_result"
    }
   ],
   "source": [
    "arr1.reshape((9,1))"
   ]
  },
  {
   "cell_type": "code",
   "execution_count": 51,
   "id": "conventional-violin",
   "metadata": {},
   "outputs": [
    {
     "data": {
      "text/plain": [
       "array([[ 1,  3,  7,  8, 11, 23, 77,  2,  4]])"
      ]
     },
     "execution_count": 51,
     "metadata": {},
     "output_type": "execute_result"
    }
   ],
   "source": [
    "arr1.reshape((1,9))"
   ]
  },
  {
   "cell_type": "code",
   "execution_count": 52,
   "id": "operational-norman",
   "metadata": {},
   "outputs": [
    {
     "data": {
      "text/plain": [
       "(3, 3)"
      ]
     },
     "execution_count": 52,
     "metadata": {},
     "output_type": "execute_result"
    }
   ],
   "source": [
    "arr1.shape    #to check the shape of the matrix"
   ]
  },
  {
   "cell_type": "code",
   "execution_count": 53,
   "id": "representative-provincial",
   "metadata": {},
   "outputs": [
    {
     "data": {
      "text/plain": [
       "array([[  7,  21,  49],\n",
       "       [ 56,  77, 161],\n",
       "       [539,  14,  28]])"
      ]
     },
     "execution_count": 53,
     "metadata": {},
     "output_type": "execute_result"
    }
   ],
   "source": [
    "\n",
    "arr1 * 7"
   ]
  },
  {
   "cell_type": "code",
   "execution_count": 54,
   "id": "communist-childhood",
   "metadata": {},
   "outputs": [
    {
     "data": {
      "text/plain": [
       "array([[  2,   6,  14],\n",
       "       [ 16,  22,  46],\n",
       "       [154,   4,   8]])"
      ]
     },
     "execution_count": 54,
     "metadata": {},
     "output_type": "execute_result"
    }
   ],
   "source": [
    "arr1 + arr1"
   ]
  },
  {
   "cell_type": "code",
   "execution_count": 55,
   "id": "regular-allowance",
   "metadata": {},
   "outputs": [
    {
     "data": {
      "text/plain": [
       "array([[   1,    9,   49],\n",
       "       [  64,  121,  529],\n",
       "       [5929,    4,   16]])"
      ]
     },
     "execution_count": 55,
     "metadata": {},
     "output_type": "execute_result"
    }
   ],
   "source": [
    "arr1**2"
   ]
  },
  {
   "cell_type": "code",
   "execution_count": 56,
   "id": "speaking-restaurant",
   "metadata": {},
   "outputs": [
    {
     "data": {
      "text/plain": [
       "array([[0, 0, 0],\n",
       "       [0, 0, 0],\n",
       "       [0, 0, 0]])"
      ]
     },
     "execution_count": 56,
     "metadata": {},
     "output_type": "execute_result"
    }
   ],
   "source": [
    "arr1-arr1"
   ]
  },
  {
   "cell_type": "code",
   "execution_count": 57,
   "id": "fatal-oasis",
   "metadata": {},
   "outputs": [
    {
     "data": {
      "text/plain": [
       "array([[1.        , 1.73205081, 2.64575131],\n",
       "       [2.82842712, 3.31662479, 4.79583152],\n",
       "       [8.77496439, 1.41421356, 2.        ]])"
      ]
     },
     "execution_count": 57,
     "metadata": {},
     "output_type": "execute_result"
    }
   ],
   "source": [
    "np.sqrt(arr1)"
   ]
  },
  {
   "cell_type": "code",
   "execution_count": 58,
   "id": "signal-primary",
   "metadata": {},
   "outputs": [
    {
     "data": {
      "text/plain": [
       "array([[1.        , 0.33333333, 0.14285714],\n",
       "       [0.125     , 0.09090909, 0.04347826],\n",
       "       [0.01298701, 0.5       , 0.25      ]])"
      ]
     },
     "execution_count": 58,
     "metadata": {},
     "output_type": "execute_result"
    }
   ],
   "source": [
    "1/arr1"
   ]
  },
  {
   "cell_type": "code",
   "execution_count": 59,
   "id": "christian-fundamentals",
   "metadata": {},
   "outputs": [
    {
     "data": {
      "text/plain": [
       "array([86, 16, 34])"
      ]
     },
     "execution_count": 59,
     "metadata": {},
     "output_type": "execute_result"
    }
   ],
   "source": [
    "arr1.sum(0)"
   ]
  },
  {
   "cell_type": "code",
   "execution_count": 60,
   "id": "inappropriate-telescope",
   "metadata": {},
   "outputs": [
    {
     "data": {
      "text/plain": [
       "array([11, 42, 83])"
      ]
     },
     "execution_count": 60,
     "metadata": {},
     "output_type": "execute_result"
    }
   ],
   "source": [
    "arr1.sum(1)"
   ]
  },
  {
   "cell_type": "code",
   "execution_count": 61,
   "id": "antique-variable",
   "metadata": {},
   "outputs": [
    {
     "data": {
      "text/plain": [
       "136"
      ]
     },
     "execution_count": 61,
     "metadata": {},
     "output_type": "execute_result"
    }
   ],
   "source": [
    "arr1.sum()\n"
   ]
  },
  {
   "cell_type": "code",
   "execution_count": 62,
   "id": "supreme-capability",
   "metadata": {},
   "outputs": [
    {
     "data": {
      "text/plain": [
       "(array([0, 0, 0, 1, 1, 1, 2, 2, 2]), array([0, 1, 2, 0, 1, 2, 0, 1, 2]))"
      ]
     },
     "execution_count": 62,
     "metadata": {},
     "output_type": "execute_result"
    }
   ],
   "source": [
    "np.where(arr1>0)"
   ]
  },
  {
   "cell_type": "code",
   "execution_count": 63,
   "id": "economic-event",
   "metadata": {},
   "outputs": [
    {
     "data": {
      "text/plain": [
       "array([[1, 2, 3],\n",
       "       [4, 5, 6],\n",
       "       [7, 1, 0]])"
      ]
     },
     "execution_count": 63,
     "metadata": {},
     "output_type": "execute_result"
    }
   ],
   "source": [
    "arr"
   ]
  },
  {
   "cell_type": "code",
   "execution_count": 64,
   "id": "deluxe-amateur",
   "metadata": {},
   "outputs": [
    {
     "data": {
      "text/plain": [
       "array([[ 1,  3,  7],\n",
       "       [ 8, 11, 23],\n",
       "       [77,  2,  4]])"
      ]
     },
     "execution_count": 64,
     "metadata": {},
     "output_type": "execute_result"
    }
   ],
   "source": [
    "arr1"
   ]
  },
  {
   "cell_type": "code",
   "execution_count": 65,
   "id": "undefined-quarter",
   "metadata": {},
   "outputs": [
    {
     "data": {
      "text/plain": [
       "array([[572,  61, 127],\n",
       "       [119,  63, 133],\n",
       "       [ 51,  75, 159]])"
      ]
     },
     "execution_count": 65,
     "metadata": {},
     "output_type": "execute_result"
    }
   ],
   "source": [
    "np.dot(arr.T,arr1) #dot product "
   ]
  },
  {
   "cell_type": "code",
   "execution_count": 66,
   "id": "worth-asbestos",
   "metadata": {},
   "outputs": [
    {
     "data": {
      "text/plain": [
       "array([[[ 0,  1,  2,  3,  4],\n",
       "        [ 5,  6,  7,  8,  9],\n",
       "        [10, 11, 12, 13, 14],\n",
       "        [15, 16, 17, 18, 19],\n",
       "        [20, 21, 22, 23, 24]],\n",
       "\n",
       "       [[25, 26, 27, 28, 29],\n",
       "        [30, 31, 32, 33, 34],\n",
       "        [35, 36, 37, 38, 39],\n",
       "        [40, 41, 42, 43, 44],\n",
       "        [45, 46, 47, 48, 49]]])"
      ]
     },
     "execution_count": 66,
     "metadata": {},
     "output_type": "execute_result"
    }
   ],
   "source": [
    "arr3 = np.arange(50).reshape(2,5,5)\n",
    "arr3"
   ]
  },
  {
   "cell_type": "code",
   "execution_count": 67,
   "id": "seventh-sword",
   "metadata": {},
   "outputs": [
    {
     "data": {
      "text/plain": [
       "(2, 5, 5)"
      ]
     },
     "execution_count": 67,
     "metadata": {},
     "output_type": "execute_result"
    }
   ],
   "source": [
    "arr3.shape\n"
   ]
  },
  {
   "cell_type": "code",
   "execution_count": 68,
   "id": "varied-trainer",
   "metadata": {},
   "outputs": [
    {
     "data": {
      "text/plain": [
       "(array([[25, 26, 27, 28, 29],\n",
       "        [30, 31, 32, 33, 34],\n",
       "        [35, 36, 37, 38, 39],\n",
       "        [40, 41, 42, 43, 44],\n",
       "        [45, 46, 47, 48, 49]]),\n",
       " array([[ 0,  1,  2,  3,  4],\n",
       "        [ 5,  6,  7,  8,  9],\n",
       "        [10, 11, 12, 13, 14],\n",
       "        [15, 16, 17, 18, 19],\n",
       "        [20, 21, 22, 23, 24]]))"
      ]
     },
     "execution_count": 68,
     "metadata": {},
     "output_type": "execute_result"
    }
   ],
   "source": [
    "arr3[1],arr3[0]"
   ]
  },
  {
   "cell_type": "code",
   "execution_count": 69,
   "id": "thick-accordance",
   "metadata": {},
   "outputs": [
    {
     "data": {
      "text/plain": [
       "array([[   0,   26,   54,   84,  116],\n",
       "       [ 150,  186,  224,  264,  306],\n",
       "       [ 350,  396,  444,  494,  546],\n",
       "       [ 600,  656,  714,  774,  836],\n",
       "       [ 900,  966, 1034, 1104, 1176]])"
      ]
     },
     "execution_count": 69,
     "metadata": {},
     "output_type": "execute_result"
    }
   ],
   "source": [
    "arr3[0]*arr3[1]"
   ]
  },
  {
   "cell_type": "code",
   "execution_count": 70,
   "id": "verbal-armenia",
   "metadata": {},
   "outputs": [
    {
     "data": {
      "text/plain": [
       "array([[ 400,  410,  420,  430,  440],\n",
       "       [1275, 1310, 1345, 1380, 1415],\n",
       "       [2150, 2210, 2270, 2330, 2390],\n",
       "       [3025, 3110, 3195, 3280, 3365],\n",
       "       [3900, 4010, 4120, 4230, 4340]])"
      ]
     },
     "execution_count": 70,
     "metadata": {},
     "output_type": "execute_result"
    }
   ],
   "source": [
    "np.dot(arr3[0],arr3[1])"
   ]
  },
  {
   "cell_type": "code",
   "execution_count": 71,
   "id": "finite-package",
   "metadata": {},
   "outputs": [
    {
     "data": {
      "text/plain": [
       "array([[[ 0,  1,  2,  3,  4],\n",
       "        [25, 26, 27, 28, 29]],\n",
       "\n",
       "       [[ 5,  6,  7,  8,  9],\n",
       "        [30, 31, 32, 33, 34]],\n",
       "\n",
       "       [[10, 11, 12, 13, 14],\n",
       "        [35, 36, 37, 38, 39]],\n",
       "\n",
       "       [[15, 16, 17, 18, 19],\n",
       "        [40, 41, 42, 43, 44]],\n",
       "\n",
       "       [[20, 21, 22, 23, 24],\n",
       "        [45, 46, 47, 48, 49]]])"
      ]
     },
     "execution_count": 71,
     "metadata": {},
     "output_type": "execute_result"
    }
   ],
   "source": [
    "arr3.swapaxes(1,0)"
   ]
  },
  {
   "cell_type": "code",
   "execution_count": 72,
   "id": "ordinary-carroll",
   "metadata": {},
   "outputs": [
    {
     "data": {
      "text/plain": [
       "array([[[ 0,  1,  2,  3,  4],\n",
       "        [25, 26, 27, 28, 29]],\n",
       "\n",
       "       [[ 5,  6,  7,  8,  9],\n",
       "        [30, 31, 32, 33, 34]],\n",
       "\n",
       "       [[10, 11, 12, 13, 14],\n",
       "        [35, 36, 37, 38, 39]],\n",
       "\n",
       "       [[15, 16, 17, 18, 19],\n",
       "        [40, 41, 42, 43, 44]],\n",
       "\n",
       "       [[20, 21, 22, 23, 24],\n",
       "        [45, 46, 47, 48, 49]]])"
      ]
     },
     "execution_count": 72,
     "metadata": {},
     "output_type": "execute_result"
    }
   ],
   "source": [
    "arr3.swapaxes(0,1)"
   ]
  },
  {
   "cell_type": "code",
   "execution_count": 73,
   "id": "reported-emerald",
   "metadata": {},
   "outputs": [
    {
     "data": {
      "text/plain": [
       "array([[[ 0,  1,  2,  3,  4],\n",
       "        [ 5,  6,  7,  8,  9],\n",
       "        [10, 11, 12, 13, 14],\n",
       "        [15, 16, 17, 18, 19],\n",
       "        [20, 21, 22, 23, 24]],\n",
       "\n",
       "       [[25, 26, 27, 28, 29],\n",
       "        [30, 31, 32, 33, 34],\n",
       "        [35, 36, 37, 38, 39],\n",
       "        [40, 41, 42, 43, 44],\n",
       "        [45, 46, 47, 48, 49]]])"
      ]
     },
     "execution_count": 73,
     "metadata": {},
     "output_type": "execute_result"
    }
   ],
   "source": [
    "arr3"
   ]
  },
  {
   "cell_type": "code",
   "execution_count": 74,
   "id": "passive-repeat",
   "metadata": {},
   "outputs": [
    {
     "data": {
      "text/plain": [
       "3"
      ]
     },
     "execution_count": 74,
     "metadata": {},
     "output_type": "execute_result"
    }
   ],
   "source": [
    "arr3.ndim"
   ]
  },
  {
   "cell_type": "code",
   "execution_count": 75,
   "id": "concerned-consent",
   "metadata": {},
   "outputs": [
    {
     "data": {
      "text/plain": [
       "array([[[ 0,  1,  2,  3,  4],\n",
       "        [25, 26, 27, 28, 29]],\n",
       "\n",
       "       [[ 5,  6,  7,  8,  9],\n",
       "        [30, 31, 32, 33, 34]],\n",
       "\n",
       "       [[10, 11, 12, 13, 14],\n",
       "        [35, 36, 37, 38, 39]],\n",
       "\n",
       "       [[15, 16, 17, 18, 19],\n",
       "        [40, 41, 42, 43, 44]],\n",
       "\n",
       "       [[20, 21, 22, 23, 24],\n",
       "        [45, 46, 47, 48, 49]]])"
      ]
     },
     "execution_count": 75,
     "metadata": {},
     "output_type": "execute_result"
    }
   ],
   "source": [
    "arr3.transpose(1,0,2)"
   ]
  },
  {
   "cell_type": "code",
   "execution_count": 76,
   "id": "interested-inspiration",
   "metadata": {},
   "outputs": [
    {
     "data": {
      "text/plain": [
       "array([[[1.00000000e+00, 2.71828183e+00, 7.38905610e+00, 2.00855369e+01,\n",
       "         5.45981500e+01],\n",
       "        [1.48413159e+02, 4.03428793e+02, 1.09663316e+03, 2.98095799e+03,\n",
       "         8.10308393e+03],\n",
       "        [2.20264658e+04, 5.98741417e+04, 1.62754791e+05, 4.42413392e+05,\n",
       "         1.20260428e+06],\n",
       "        [3.26901737e+06, 8.88611052e+06, 2.41549528e+07, 6.56599691e+07,\n",
       "         1.78482301e+08],\n",
       "        [4.85165195e+08, 1.31881573e+09, 3.58491285e+09, 9.74480345e+09,\n",
       "         2.64891221e+10]],\n",
       "\n",
       "       [[7.20048993e+10, 1.95729609e+11, 5.32048241e+11, 1.44625706e+12,\n",
       "         3.93133430e+12],\n",
       "        [1.06864746e+13, 2.90488497e+13, 7.89629602e+13, 2.14643580e+14,\n",
       "         5.83461743e+14],\n",
       "        [1.58601345e+15, 4.31123155e+15, 1.17191424e+16, 3.18559318e+16,\n",
       "         8.65934004e+16],\n",
       "        [2.35385267e+17, 6.39843494e+17, 1.73927494e+18, 4.72783947e+18,\n",
       "         1.28516001e+19],\n",
       "        [3.49342711e+19, 9.49611942e+19, 2.58131289e+20, 7.01673591e+20,\n",
       "         1.90734657e+21]]])"
      ]
     },
     "execution_count": 76,
     "metadata": {},
     "output_type": "execute_result"
    }
   ],
   "source": [
    "np.exp(arr3)"
   ]
  },
  {
   "cell_type": "code",
   "execution_count": 77,
   "id": "expressed-anger",
   "metadata": {},
   "outputs": [
    {
     "data": {
      "text/plain": [
       "1225"
      ]
     },
     "execution_count": 77,
     "metadata": {},
     "output_type": "execute_result"
    }
   ],
   "source": [
    "arr3.sum()"
   ]
  },
  {
   "cell_type": "code",
   "execution_count": 78,
   "id": "greatest-expansion",
   "metadata": {},
   "outputs": [
    {
     "data": {
      "text/plain": [
       "array([[[0.        , 1.        , 1.41421356, 1.73205081, 2.        ],\n",
       "        [2.23606798, 2.44948974, 2.64575131, 2.82842712, 3.        ],\n",
       "        [3.16227766, 3.31662479, 3.46410162, 3.60555128, 3.74165739],\n",
       "        [3.87298335, 4.        , 4.12310563, 4.24264069, 4.35889894],\n",
       "        [4.47213595, 4.58257569, 4.69041576, 4.79583152, 4.89897949]],\n",
       "\n",
       "       [[5.        , 5.09901951, 5.19615242, 5.29150262, 5.38516481],\n",
       "        [5.47722558, 5.56776436, 5.65685425, 5.74456265, 5.83095189],\n",
       "        [5.91607978, 6.        , 6.08276253, 6.164414  , 6.244998  ],\n",
       "        [6.32455532, 6.40312424, 6.4807407 , 6.55743852, 6.63324958],\n",
       "        [6.70820393, 6.78232998, 6.8556546 , 6.92820323, 7.        ]]])"
      ]
     },
     "execution_count": 78,
     "metadata": {},
     "output_type": "execute_result"
    }
   ],
   "source": [
    "np.sqrt(arr3)"
   ]
  },
  {
   "cell_type": "code",
   "execution_count": 79,
   "id": "binary-fight",
   "metadata": {},
   "outputs": [
    {
     "data": {
      "text/plain": [
       "array([ 0.56608789, -1.91358529, -0.03605671,  0.42189607, -2.34365734,\n",
       "        0.67397123, -0.86832486, -0.71184882,  0.9361686 , -0.41783363,\n",
       "        1.71132149, -0.4977622 ])"
      ]
     },
     "execution_count": 79,
     "metadata": {},
     "output_type": "execute_result"
    }
   ],
   "source": [
    "A = np.random.randn(12)   #generates random numbers\n",
    "A\n"
   ]
  },
  {
   "cell_type": "code",
   "execution_count": 80,
   "id": "wired-christopher",
   "metadata": {},
   "outputs": [
    {
     "data": {
      "text/plain": [
       "array([[ 2,  5, 10],\n",
       "       [12, 16, 29],\n",
       "       [84,  3,  4]])"
      ]
     },
     "execution_count": 80,
     "metadata": {},
     "output_type": "execute_result"
    }
   ],
   "source": [
    "np.add(arr1,arr)"
   ]
  },
  {
   "cell_type": "code",
   "execution_count": 81,
   "id": "dietary-decimal",
   "metadata": {},
   "outputs": [
    {
     "data": {
      "text/plain": [
       "array([[ 2,  5, 10],\n",
       "       [12, 16, 29],\n",
       "       [84,  3,  4]])"
      ]
     },
     "execution_count": 81,
     "metadata": {},
     "output_type": "execute_result"
    }
   ],
   "source": [
    "arr2 = np.asarray(np.add(arr1,arr))\n",
    "arr2"
   ]
  },
  {
   "cell_type": "code",
   "execution_count": 82,
   "id": "norman-vintage",
   "metadata": {},
   "outputs": [
    {
     "data": {
      "text/plain": [
       "array([[ 2,  5, 10],\n",
       "       [12, 16, 29],\n",
       "       [84,  3,  4]])"
      ]
     },
     "execution_count": 82,
     "metadata": {},
     "output_type": "execute_result"
    }
   ],
   "source": [
    "np.maximum(arr2,arr1) #returns a maximum matrix from arr2 and arr1"
   ]
  },
  {
   "cell_type": "code",
   "execution_count": 83,
   "id": "casual-behavior",
   "metadata": {},
   "outputs": [
    {
     "data": {
      "text/plain": [
       "array([[ 1,  3,  7],\n",
       "       [ 8, 11, 23],\n",
       "       [77,  2,  4]])"
      ]
     },
     "execution_count": 83,
     "metadata": {},
     "output_type": "execute_result"
    }
   ],
   "source": [
    "np.minimum(arr1,arr2)"
   ]
  },
  {
   "cell_type": "code",
   "execution_count": 84,
   "id": "public-representative",
   "metadata": {},
   "outputs": [
    {
     "data": {
      "text/plain": [
       "(array([[ 1,  3,  7],\n",
       "        [ 8, 11, 23],\n",
       "        [77,  2,  4]]),\n",
       " array([[ 2,  5, 10],\n",
       "        [12, 16, 29],\n",
       "        [84,  3,  4]]))"
      ]
     },
     "execution_count": 84,
     "metadata": {},
     "output_type": "execute_result"
    }
   ],
   "source": [
    "arr1,arr2"
   ]
  },
  {
   "cell_type": "code",
   "execution_count": 85,
   "id": "associate-dimension",
   "metadata": {},
   "outputs": [
    {
     "data": {
      "text/plain": [
       "array([[ 2, 12, 84],\n",
       "       [ 5, 16,  3],\n",
       "       [10, 29,  4]])"
      ]
     },
     "execution_count": 85,
     "metadata": {},
     "output_type": "execute_result"
    }
   ],
   "source": [
    "np.maximum(arr1,arr2).T"
   ]
  },
  {
   "cell_type": "code",
   "execution_count": 86,
   "id": "collective-chemical",
   "metadata": {},
   "outputs": [
    {
     "data": {
      "text/plain": [
       "Text(0.5, 1.0, 'plot for sin(x**2)+sin(y**2)')"
      ]
     },
     "execution_count": 86,
     "metadata": {},
     "output_type": "execute_result"
    },
    {
     "data": {
      "image/png": "[encoded data removed]",
      "text/plain": [
       "<Figure size 432x288 with 2 Axes>"
      ]
     },
     "metadata": {
      "needs_background": "light"
     },
     "output_type": "display_data"
    }
   ],
   "source": [
    "#Array Processing-------------\n",
    "\n",
    "\n",
    "import numpy as np\n",
    "import matplotlib.pyplot as plt\n",
    "%matplotlib inline\n",
    "\n",
    "x = np.arange(-1,5,.1)\n",
    "y = np.arange(-1,5,.1)\n",
    "x1,y1 = np.meshgrid(x,y)\n",
    "z = (np.sin(x1**2)+np.sin(y1**2))\n",
    "plt.imshow(z)\n",
    "plt.colorbar()\n",
    "plt.title(\"plot for sin(x**2)+sin(y**2)\")\n",
    "\n"
   ]
  },
  {
   "cell_type": "code",
   "execution_count": 87,
   "id": "military-driver",
   "metadata": {},
   "outputs": [
    {
     "data": {
      "text/html": [
       "<div>\n",
       "<style scoped>\n",
       "    .dataframe tbody tr th:only-of-type {\n",
       "        vertical-align: middle;\n",
       "    }\n",
       "\n",
       "    .dataframe tbody tr th {\n",
       "        vertical-align: top;\n",
       "    }\n",
       "\n",
       "    .dataframe thead th {\n",
       "        text-align: right;\n",
       "    }\n",
       "</style>\n",
       "<table border=\"1\" class=\"dataframe\">\n",
       "  <thead>\n",
       "    <tr style=\"text-align: right;\">\n",
       "      <th></th>\n",
       "      <th>0</th>\n",
       "      <th>1</th>\n",
       "      <th>2</th>\n",
       "      <th>3</th>\n",
       "      <th>4</th>\n",
       "      <th>5</th>\n",
       "      <th>6</th>\n",
       "      <th>7</th>\n",
       "      <th>8</th>\n",
       "      <th>9</th>\n",
       "      <th>...</th>\n",
       "      <th>50</th>\n",
       "      <th>51</th>\n",
       "      <th>52</th>\n",
       "      <th>53</th>\n",
       "      <th>54</th>\n",
       "      <th>55</th>\n",
       "      <th>56</th>\n",
       "      <th>57</th>\n",
       "      <th>58</th>\n",
       "      <th>59</th>\n",
       "    </tr>\n",
       "  </thead>\n",
       "  <tbody>\n",
       "    <tr>\n",
       "      <th>0</th>\n",
       "      <td>1.682942</td>\n",
       "      <td>1.565758</td>\n",
       "      <td>1.438666</td>\n",
       "      <td>1.312097</td>\n",
       "      <td>1.193745</td>\n",
       "      <td>1.088875</td>\n",
       "      <td>1.000789</td>\n",
       "      <td>0.931350</td>\n",
       "      <td>0.881460</td>\n",
       "      <td>0.851471</td>\n",
       "      <td>...</td>\n",
       "      <td>0.553568</td>\n",
       "      <td>-0.050658</td>\n",
       "      <td>-0.093988</td>\n",
       "      <td>0.489612</td>\n",
       "      <td>1.330036</td>\n",
       "      <td>1.826996</td>\n",
       "      <td>1.580177</td>\n",
       "      <td>0.742780</td>\n",
       "      <td>-0.025380</td>\n",
       "      <td>-0.059820</td>\n",
       "    </tr>\n",
       "    <tr>\n",
       "      <th>1</th>\n",
       "      <td>1.565758</td>\n",
       "      <td>1.448574</td>\n",
       "      <td>1.321483</td>\n",
       "      <td>1.194913</td>\n",
       "      <td>1.076561</td>\n",
       "      <td>0.971691</td>\n",
       "      <td>0.883605</td>\n",
       "      <td>0.814166</td>\n",
       "      <td>0.764277</td>\n",
       "      <td>0.734287</td>\n",
       "      <td>...</td>\n",
       "      <td>0.436384</td>\n",
       "      <td>-0.167842</td>\n",
       "      <td>-0.211172</td>\n",
       "      <td>0.372429</td>\n",
       "      <td>1.212852</td>\n",
       "      <td>1.709812</td>\n",
       "      <td>1.462993</td>\n",
       "      <td>0.625597</td>\n",
       "      <td>-0.142564</td>\n",
       "      <td>-0.177004</td>\n",
       "    </tr>\n",
       "    <tr>\n",
       "      <th>2</th>\n",
       "      <td>1.438666</td>\n",
       "      <td>1.321483</td>\n",
       "      <td>1.194391</td>\n",
       "      <td>1.067821</td>\n",
       "      <td>0.949470</td>\n",
       "      <td>0.844599</td>\n",
       "      <td>0.756514</td>\n",
       "      <td>0.687074</td>\n",
       "      <td>0.637185</td>\n",
       "      <td>0.607195</td>\n",
       "      <td>...</td>\n",
       "      <td>0.309292</td>\n",
       "      <td>-0.294934</td>\n",
       "      <td>-0.338264</td>\n",
       "      <td>0.245337</td>\n",
       "      <td>1.085760</td>\n",
       "      <td>1.582721</td>\n",
       "      <td>1.335901</td>\n",
       "      <td>0.498505</td>\n",
       "      <td>-0.269656</td>\n",
       "      <td>-0.304096</td>\n",
       "    </tr>\n",
       "    <tr>\n",
       "      <th>3</th>\n",
       "      <td>1.312097</td>\n",
       "      <td>1.194913</td>\n",
       "      <td>1.067821</td>\n",
       "      <td>0.941252</td>\n",
       "      <td>0.822900</td>\n",
       "      <td>0.718030</td>\n",
       "      <td>0.629944</td>\n",
       "      <td>0.560504</td>\n",
       "      <td>0.510615</td>\n",
       "      <td>0.480626</td>\n",
       "      <td>...</td>\n",
       "      <td>0.182723</td>\n",
       "      <td>-0.421503</td>\n",
       "      <td>-0.464833</td>\n",
       "      <td>0.118767</td>\n",
       "      <td>0.959191</td>\n",
       "      <td>1.456151</td>\n",
       "      <td>1.209332</td>\n",
       "      <td>0.371935</td>\n",
       "      <td>-0.396225</td>\n",
       "      <td>-0.430665</td>\n",
       "    </tr>\n",
       "    <tr>\n",
       "      <th>4</th>\n",
       "      <td>1.193745</td>\n",
       "      <td>1.076561</td>\n",
       "      <td>0.949470</td>\n",
       "      <td>0.822900</td>\n",
       "      <td>0.704548</td>\n",
       "      <td>0.599678</td>\n",
       "      <td>0.511592</td>\n",
       "      <td>0.442153</td>\n",
       "      <td>0.392264</td>\n",
       "      <td>0.362274</td>\n",
       "      <td>...</td>\n",
       "      <td>0.064371</td>\n",
       "      <td>-0.539855</td>\n",
       "      <td>-0.583185</td>\n",
       "      <td>0.000416</td>\n",
       "      <td>0.840839</td>\n",
       "      <td>1.337799</td>\n",
       "      <td>1.090980</td>\n",
       "      <td>0.253584</td>\n",
       "      <td>-0.514577</td>\n",
       "      <td>-0.549017</td>\n",
       "    </tr>\n",
       "    <tr>\n",
       "      <th>5</th>\n",
       "      <td>1.088875</td>\n",
       "      <td>0.971691</td>\n",
       "      <td>0.844599</td>\n",
       "      <td>0.718030</td>\n",
       "      <td>0.599678</td>\n",
       "      <td>0.494808</td>\n",
       "      <td>0.406722</td>\n",
       "      <td>0.337283</td>\n",
       "      <td>0.287393</td>\n",
       "      <td>0.257404</td>\n",
       "      <td>...</td>\n",
       "      <td>-0.040499</td>\n",
       "      <td>-0.644725</td>\n",
       "      <td>-0.688055</td>\n",
       "      <td>-0.104455</td>\n",
       "      <td>0.735969</td>\n",
       "      <td>1.232929</td>\n",
       "      <td>0.986110</td>\n",
       "      <td>0.148713</td>\n",
       "      <td>-0.619447</td>\n",
       "      <td>-0.653887</td>\n",
       "    </tr>\n",
       "    <tr>\n",
       "      <th>6</th>\n",
       "      <td>1.000789</td>\n",
       "      <td>0.883605</td>\n",
       "      <td>0.756514</td>\n",
       "      <td>0.629944</td>\n",
       "      <td>0.511592</td>\n",
       "      <td>0.406722</td>\n",
       "      <td>0.318636</td>\n",
       "      <td>0.249197</td>\n",
       "      <td>0.199308</td>\n",
       "      <td>0.169318</td>\n",
       "      <td>...</td>\n",
       "      <td>-0.128585</td>\n",
       "      <td>-0.732811</td>\n",
       "      <td>-0.776141</td>\n",
       "      <td>-0.192540</td>\n",
       "      <td>0.647883</td>\n",
       "      <td>1.144843</td>\n",
       "      <td>0.898024</td>\n",
       "      <td>0.060628</td>\n",
       "      <td>-0.707533</td>\n",
       "      <td>-0.741973</td>\n",
       "    </tr>\n",
       "    <tr>\n",
       "      <th>7</th>\n",
       "      <td>0.931350</td>\n",
       "      <td>0.814166</td>\n",
       "      <td>0.687074</td>\n",
       "      <td>0.560504</td>\n",
       "      <td>0.442153</td>\n",
       "      <td>0.337283</td>\n",
       "      <td>0.249197</td>\n",
       "      <td>0.179757</td>\n",
       "      <td>0.129868</td>\n",
       "      <td>0.099878</td>\n",
       "      <td>...</td>\n",
       "      <td>-0.198025</td>\n",
       "      <td>-0.802251</td>\n",
       "      <td>-0.845581</td>\n",
       "      <td>-0.261980</td>\n",
       "      <td>0.578443</td>\n",
       "      <td>1.075404</td>\n",
       "      <td>0.828585</td>\n",
       "      <td>-0.008812</td>\n",
       "      <td>-0.776973</td>\n",
       "      <td>-0.811413</td>\n",
       "    </tr>\n",
       "    <tr>\n",
       "      <th>8</th>\n",
       "      <td>0.881460</td>\n",
       "      <td>0.764277</td>\n",
       "      <td>0.637185</td>\n",
       "      <td>0.510615</td>\n",
       "      <td>0.392264</td>\n",
       "      <td>0.287393</td>\n",
       "      <td>0.199308</td>\n",
       "      <td>0.129868</td>\n",
       "      <td>0.079979</td>\n",
       "      <td>0.049989</td>\n",
       "      <td>...</td>\n",
       "      <td>-0.247914</td>\n",
       "      <td>-0.852140</td>\n",
       "      <td>-0.895470</td>\n",
       "      <td>-0.311869</td>\n",
       "      <td>0.528554</td>\n",
       "      <td>1.025514</td>\n",
       "      <td>0.778695</td>\n",
       "      <td>-0.058701</td>\n",
       "      <td>-0.826862</td>\n",
       "      <td>-0.861302</td>\n",
       "    </tr>\n",
       "    <tr>\n",
       "      <th>9</th>\n",
       "      <td>0.851471</td>\n",
       "      <td>0.734287</td>\n",
       "      <td>0.607195</td>\n",
       "      <td>0.480626</td>\n",
       "      <td>0.362274</td>\n",
       "      <td>0.257404</td>\n",
       "      <td>0.169318</td>\n",
       "      <td>0.099878</td>\n",
       "      <td>0.049989</td>\n",
       "      <td>0.020000</td>\n",
       "      <td>...</td>\n",
       "      <td>-0.277903</td>\n",
       "      <td>-0.882130</td>\n",
       "      <td>-0.925459</td>\n",
       "      <td>-0.341859</td>\n",
       "      <td>0.498565</td>\n",
       "      <td>0.995525</td>\n",
       "      <td>0.748706</td>\n",
       "      <td>-0.088691</td>\n",
       "      <td>-0.856851</td>\n",
       "      <td>-0.891292</td>\n",
       "    </tr>\n",
       "  </tbody>\n",
       "</table>\n",
       "<p>10 rows × 60 columns</p>\n",
       "</div>"
      ],
      "text/plain": [
       "         0         1         2         3         4         5         6   \\\n",
       "0  1.682942  1.565758  1.438666  1.312097  1.193745  1.088875  1.000789   \n",
       "1  1.565758  1.448574  1.321483  1.194913  1.076561  0.971691  0.883605   \n",
       "2  1.438666  1.321483  1.194391  1.067821  0.949470  0.844599  0.756514   \n",
       "3  1.312097  1.194913  1.067821  0.941252  0.822900  0.718030  0.629944   \n",
       "4  1.193745  1.076561  0.949470  0.822900  0.704548  0.599678  0.511592   \n",
       "5  1.088875  0.971691  0.844599  0.718030  0.599678  0.494808  0.406722   \n",
       "6  1.000789  0.883605  0.756514  0.629944  0.511592  0.406722  0.318636   \n",
       "7  0.931350  0.814166  0.687074  0.560504  0.442153  0.337283  0.249197   \n",
       "8  0.881460  0.764277  0.637185  0.510615  0.392264  0.287393  0.199308   \n",
       "9  0.851471  0.734287  0.607195  0.480626  0.362274  0.257404  0.169318   \n",
       "\n",
       "         7         8         9   ...        50        51        52        53  \\\n",
       "0  0.931350  0.881460  0.851471  ...  0.553568 -0.050658 -0.093988  0.489612   \n",
       "1  0.814166  0.764277  0.734287  ...  0.436384 -0.167842 -0.211172  0.372429   \n",
       "2  0.687074  0.637185  0.607195  ...  0.309292 -0.294934 -0.338264  0.245337   \n",
       "3  0.560504  0.510615  0.480626  ...  0.182723 -0.421503 -0.464833  0.118767   \n",
       "4  0.442153  0.392264  0.362274  ...  0.064371 -0.539855 -0.583185  0.000416   \n",
       "5  0.337283  0.287393  0.257404  ... -0.040499 -0.644725 -0.688055 -0.104455   \n",
       "6  0.249197  0.199308  0.169318  ... -0.128585 -0.732811 -0.776141 -0.192540   \n",
       "7  0.179757  0.129868  0.099878  ... -0.198025 -0.802251 -0.845581 -0.261980   \n",
       "8  0.129868  0.079979  0.049989  ... -0.247914 -0.852140 -0.895470 -0.311869   \n",
       "9  0.099878  0.049989  0.020000  ... -0.277903 -0.882130 -0.925459 -0.341859   \n",
       "\n",
       "         54        55        56        57        58        59  \n",
       "0  1.330036  1.826996  1.580177  0.742780 -0.025380 -0.059820  \n",
       "1  1.212852  1.709812  1.462993  0.625597 -0.142564 -0.177004  \n",
       "2  1.085760  1.582721  1.335901  0.498505 -0.269656 -0.304096  \n",
       "3  0.959191  1.456151  1.209332  0.371935 -0.396225 -0.430665  \n",
       "4  0.840839  1.337799  1.090980  0.253584 -0.514577 -0.549017  \n",
       "5  0.735969  1.232929  0.986110  0.148713 -0.619447 -0.653887  \n",
       "6  0.647883  1.144843  0.898024  0.060628 -0.707533 -0.741973  \n",
       "7  0.578443  1.075404  0.828585 -0.008812 -0.776973 -0.811413  \n",
       "8  0.528554  1.025514  0.778695 -0.058701 -0.826862 -0.861302  \n",
       "9  0.498565  0.995525  0.748706 -0.088691 -0.856851 -0.891292  \n",
       "\n",
       "[10 rows x 60 columns]"
      ]
     },
     "execution_count": 87,
     "metadata": {},
     "output_type": "execute_result"
    }
   ],
   "source": [
    "import pandas as pd\n",
    "df = pd.DataFrame(z)\n",
    "df.head(10)"
   ]
  },
  {
   "cell_type": "code",
   "execution_count": 88,
   "id": "alone-sunglasses",
   "metadata": {},
   "outputs": [
    {
     "data": {
      "text/plain": [
       "array([[ 2,  5, 10],\n",
       "       [12, 16, 29],\n",
       "       [84,  3,  4]])"
      ]
     },
     "execution_count": 88,
     "metadata": {},
     "output_type": "execute_result"
    }
   ],
   "source": [
    "arr2"
   ]
  },
  {
   "cell_type": "code",
   "execution_count": 89,
   "id": "engaged-application",
   "metadata": {},
   "outputs": [
    {
     "data": {
      "text/plain": [
       "array([[ 4,  5, 10],\n",
       "       [12, 16, 29],\n",
       "       [84,  4,  4]])"
      ]
     },
     "execution_count": 89,
     "metadata": {},
     "output_type": "execute_result"
    }
   ],
   "source": [
    "np.where(arr2<4,4,arr2)"
   ]
  },
  {
   "cell_type": "markdown",
   "id": "extra-treatment",
   "metadata": {},
   "source": [
    "# Creating Vector"
   ]
  },
  {
   "cell_type": "code",
   "execution_count": 90,
   "id": "individual-congress",
   "metadata": {},
   "outputs": [
    {
     "data": {
      "text/plain": [
       "array([1., 2., 3., 4., 5., 7.])"
      ]
     },
     "execution_count": 90,
     "metadata": {},
     "output_type": "execute_result"
    }
   ],
   "source": [
    "# 1 D array\n",
    "\n",
    "vector_row = np.array([1,2,3,4.,5.,7])\n",
    "vector_row "
   ]
  },
  {
   "cell_type": "code",
   "execution_count": 91,
   "id": "expressed-divide",
   "metadata": {},
   "outputs": [
    {
     "data": {
      "text/plain": [
       "array([[1],\n",
       "       [2],\n",
       "       [3]])"
      ]
     },
     "execution_count": 91,
     "metadata": {},
     "output_type": "execute_result"
    }
   ],
   "source": [
    "#creating a vector as a column \n",
    "\n",
    "vector_col = np.array([[1],[2],[3]])\n",
    "vector_col"
   ]
  },
  {
   "cell_type": "code",
   "execution_count": 92,
   "id": "vertical-reward",
   "metadata": {},
   "outputs": [
    {
     "data": {
      "text/plain": [
       "array([[1, 2, 3, 4],\n",
       "       [5, 6, 7, 8]])"
      ]
     },
     "execution_count": 92,
     "metadata": {},
     "output_type": "execute_result"
    }
   ],
   "source": [
    "# Matrix \n",
    "\n",
    "\n",
    "matrix = np.array([[1,2,3,4],[5,6,7,8]])\n",
    "matrix"
   ]
  },
  {
   "cell_type": "code",
   "execution_count": 93,
   "id": "expired-minority",
   "metadata": {},
   "outputs": [
    {
     "data": {
      "text/plain": [
       "array([[0, 0],\n",
       "       [0, 1],\n",
       "       [3, 0]])"
      ]
     },
     "execution_count": 93,
     "metadata": {},
     "output_type": "execute_result"
    }
   ],
   "source": [
    "matrix = np.array([[0,0],[0,1],[3,0]])\n",
    "matrix"
   ]
  },
  {
   "cell_type": "code",
   "execution_count": 94,
   "id": "mounted-pantyhose",
   "metadata": {},
   "outputs": [
    {
     "data": {
      "text/plain": [
       "array([[0, 1, 2],\n",
       "       [3, 4, 5],\n",
       "       [6, 7, 8]])"
      ]
     },
     "execution_count": 94,
     "metadata": {},
     "output_type": "execute_result"
    }
   ],
   "source": [
    "matrix = np.arange(9).reshape(3,3)\n",
    "matrix"
   ]
  },
  {
   "cell_type": "code",
   "execution_count": 95,
   "id": "compliant-lawyer",
   "metadata": {},
   "outputs": [
    {
     "data": {
      "text/plain": [
       "array([6, 7, 8])"
      ]
     },
     "execution_count": 95,
     "metadata": {},
     "output_type": "execute_result"
    }
   ],
   "source": [
    "matrix[2]    #getting the 3rd element"
   ]
  },
  {
   "cell_type": "code",
   "execution_count": 96,
   "id": "unlimited-complaint",
   "metadata": {},
   "outputs": [
    {
     "data": {
      "text/plain": [
       "4"
      ]
     },
     "execution_count": 96,
     "metadata": {},
     "output_type": "execute_result"
    }
   ],
   "source": [
    "matrix[1,1]    # getting 2nd row , 2nd element"
   ]
  },
  {
   "cell_type": "code",
   "execution_count": 97,
   "id": "aware-interpretation",
   "metadata": {},
   "outputs": [
    {
     "data": {
      "text/plain": [
       "array([[0, 1, 2],\n",
       "       [3, 4, 5],\n",
       "       [6, 7, 8]])"
      ]
     },
     "execution_count": 97,
     "metadata": {},
     "output_type": "execute_result"
    }
   ],
   "source": [
    "matrix[:]  #getting all the elements of the matrix"
   ]
  },
  {
   "cell_type": "code",
   "execution_count": 98,
   "id": "uniform-grounds",
   "metadata": {},
   "outputs": [
    {
     "data": {
      "text/plain": [
       "array([[0, 1, 2],\n",
       "       [3, 4, 5]])"
      ]
     },
     "execution_count": 98,
     "metadata": {},
     "output_type": "execute_result"
    }
   ],
   "source": [
    "matrix[:2]    #getting first two vectors"
   ]
  },
  {
   "cell_type": "code",
   "execution_count": 99,
   "id": "invalid-louisiana",
   "metadata": {},
   "outputs": [
    {
     "data": {
      "text/plain": [
       "array([[0, 1, 2],\n",
       "       [3, 4, 5],\n",
       "       [6, 7, 8]])"
      ]
     },
     "execution_count": 99,
     "metadata": {},
     "output_type": "execute_result"
    }
   ],
   "source": [
    "matrix[:3] #getting zeroth,1st,2nd vectors"
   ]
  },
  {
   "cell_type": "code",
   "execution_count": 100,
   "id": "previous-driving",
   "metadata": {},
   "outputs": [
    {
     "data": {
      "text/plain": [
       "array([], shape=(0, 3), dtype=int64)"
      ]
     },
     "execution_count": 100,
     "metadata": {},
     "output_type": "execute_result"
    }
   ],
   "source": [
    "matrix[3:]    #empty vector"
   ]
  },
  {
   "cell_type": "code",
   "execution_count": 101,
   "id": "protected-disco",
   "metadata": {},
   "outputs": [
    {
     "data": {
      "text/plain": [
       "array([6, 7, 8])"
      ]
     },
     "execution_count": 101,
     "metadata": {},
     "output_type": "execute_result"
    }
   ],
   "source": [
    "matrix[-1]     #getting the last vector"
   ]
  },
  {
   "cell_type": "code",
   "execution_count": 102,
   "id": "proper-backup",
   "metadata": {},
   "outputs": [
    {
     "data": {
      "text/plain": [
       "array([[1],\n",
       "       [4],\n",
       "       [7]])"
      ]
     },
     "execution_count": 102,
     "metadata": {},
     "output_type": "execute_result"
    }
   ],
   "source": [
    "#select all the rows and 2nd column \n",
    "\n",
    "\n",
    "matrix[:,1:2]"
   ]
  },
  {
   "cell_type": "code",
   "execution_count": 103,
   "id": "professional-programming",
   "metadata": {},
   "outputs": [
    {
     "data": {
      "text/plain": [
       "array([[2],\n",
       "       [5],\n",
       "       [8]])"
      ]
     },
     "execution_count": 103,
     "metadata": {},
     "output_type": "execute_result"
    }
   ],
   "source": [
    "#select all the rows and 3rd column\n",
    "\n",
    "\n",
    "matrix[:,2:3]"
   ]
  },
  {
   "cell_type": "code",
   "execution_count": 104,
   "id": "virtual-mayor",
   "metadata": {},
   "outputs": [
    {
     "data": {
      "text/plain": [
       "array([[0, 1, 2]])"
      ]
     },
     "execution_count": 104,
     "metadata": {},
     "output_type": "execute_result"
    }
   ],
   "source": [
    "# get 1st row and all the columns \n",
    "\n",
    "\n",
    "matrix[:1,:]"
   ]
  },
  {
   "cell_type": "code",
   "execution_count": 105,
   "id": "imported-livestock",
   "metadata": {},
   "outputs": [
    {
     "data": {
      "text/plain": [
       "array([[8]])"
      ]
     },
     "execution_count": 105,
     "metadata": {},
     "output_type": "execute_result"
    }
   ],
   "source": [
    "#get element from 3rd row and 3rd column \n",
    "\n",
    "matrix[2:3,2:3]"
   ]
  },
  {
   "cell_type": "code",
   "execution_count": 106,
   "id": "quantitative-oracle",
   "metadata": {},
   "outputs": [
    {
     "data": {
      "text/plain": [
       "(3, 3)"
      ]
     },
     "execution_count": 106,
     "metadata": {},
     "output_type": "execute_result"
    }
   ],
   "source": [
    "# view the no. of rows and columns\n",
    "\n",
    "\n",
    "matrix.shape"
   ]
  },
  {
   "cell_type": "code",
   "execution_count": 107,
   "id": "dedicated-perspective",
   "metadata": {},
   "outputs": [
    {
     "data": {
      "text/plain": [
       "9"
      ]
     },
     "execution_count": 107,
     "metadata": {},
     "output_type": "execute_result"
    }
   ],
   "source": [
    "# check the number of elements in the matrix\n",
    "\n",
    "\n",
    "matrix.size"
   ]
  },
  {
   "cell_type": "code",
   "execution_count": 108,
   "id": "signal-interval",
   "metadata": {},
   "outputs": [
    {
     "data": {
      "text/plain": [
       "2"
      ]
     },
     "execution_count": 108,
     "metadata": {},
     "output_type": "execute_result"
    }
   ],
   "source": [
    "#view dimenesion\n",
    "\n",
    "matrix.ndim"
   ]
  },
  {
   "cell_type": "code",
   "execution_count": 109,
   "id": "reflected-jewel",
   "metadata": {},
   "outputs": [],
   "source": [
    "#creating a function that can add i to 50\n",
    "\n",
    "add = lambda i : i+50"
   ]
  },
  {
   "cell_type": "code",
   "execution_count": 110,
   "id": "seeing-seeking",
   "metadata": {},
   "outputs": [
    {
     "data": {
      "text/plain": [
       "<numpy.vectorize at 0x7fd1e74ee970>"
      ]
     },
     "execution_count": 110,
     "metadata": {},
     "output_type": "execute_result"
    }
   ],
   "source": [
    "vector_add = np.vectorize(add)\n",
    "vector_add     "
   ]
  },
  {
   "cell_type": "code",
   "execution_count": 111,
   "id": "desperate-tulsa",
   "metadata": {},
   "outputs": [
    {
     "data": {
      "text/plain": [
       "array([[50, 51, 52],\n",
       "       [53, 54, 55],\n",
       "       [56, 57, 58]])"
      ]
     },
     "execution_count": 111,
     "metadata": {},
     "output_type": "execute_result"
    }
   ],
   "source": [
    "vector_add(matrix)    #apply function to all elements in matrix "
   ]
  },
  {
   "cell_type": "code",
   "execution_count": 112,
   "id": "extra-fight",
   "metadata": {},
   "outputs": [
    {
     "data": {
      "text/plain": [
       "8"
      ]
     },
     "execution_count": 112,
     "metadata": {},
     "output_type": "execute_result"
    }
   ],
   "source": [
    "np.max(matrix)    #finding maximum element in a matrix"
   ]
  },
  {
   "cell_type": "code",
   "execution_count": 113,
   "id": "indirect-strain",
   "metadata": {},
   "outputs": [
    {
     "data": {
      "text/plain": [
       "0"
      ]
     },
     "execution_count": 113,
     "metadata": {},
     "output_type": "execute_result"
    }
   ],
   "source": [
    "np.min(matrix)   #finding minimum element in a matrix"
   ]
  },
  {
   "cell_type": "code",
   "execution_count": 114,
   "id": "valued-canyon",
   "metadata": {},
   "outputs": [
    {
     "data": {
      "text/plain": [
       "array([6, 7, 8])"
      ]
     },
     "execution_count": 114,
     "metadata": {},
     "output_type": "execute_result"
    }
   ],
   "source": [
    "#to find maximum elements in each column \n",
    "\n",
    "np.max(matrix,axis=0)"
   ]
  },
  {
   "cell_type": "code",
   "execution_count": 115,
   "id": "painted-burning",
   "metadata": {},
   "outputs": [
    {
     "data": {
      "text/plain": [
       "array([0, 3, 6])"
      ]
     },
     "execution_count": 115,
     "metadata": {},
     "output_type": "execute_result"
    }
   ],
   "source": [
    "np.min(matrix,axis=1)"
   ]
  },
  {
   "cell_type": "code",
   "execution_count": 116,
   "id": "banned-graphics",
   "metadata": {},
   "outputs": [
    {
     "data": {
      "text/plain": [
       "(4.0, 2.581988897471611, 6.666666666666667)"
      ]
     },
     "execution_count": 116,
     "metadata": {},
     "output_type": "execute_result"
    }
   ],
   "source": [
    "# finding average,standard deviation, variance \n",
    "\n",
    "\n",
    "np.mean(matrix),np.std(matrix),np.var(matrix)"
   ]
  },
  {
   "cell_type": "code",
   "execution_count": 117,
   "id": "fleet-determination",
   "metadata": {},
   "outputs": [
    {
     "data": {
      "text/plain": [
       "array([0, 1, 2, 3, 4, 5, 6, 7, 8])"
      ]
     },
     "execution_count": 117,
     "metadata": {},
     "output_type": "execute_result"
    }
   ],
   "source": [
    "matrix.flatten()  #flatten method converts a matrix to 1-D array"
   ]
  },
  {
   "cell_type": "code",
   "execution_count": 118,
   "id": "worse-withdrawal",
   "metadata": {},
   "outputs": [
    {
     "data": {
      "text/plain": [
       "array([[0, 3, 6],\n",
       "       [1, 4, 7],\n",
       "       [2, 5, 8]])"
      ]
     },
     "execution_count": 118,
     "metadata": {},
     "output_type": "execute_result"
    }
   ],
   "source": [
    "# transposing a vector or a matrix \n",
    "\n",
    "matrix.T"
   ]
  },
  {
   "cell_type": "code",
   "execution_count": 119,
   "id": "pressing-bikini",
   "metadata": {},
   "outputs": [
    {
     "data": {
      "text/plain": [
       "6.66133814775094e-16"
      ]
     },
     "execution_count": 119,
     "metadata": {},
     "output_type": "execute_result"
    }
   ],
   "source": [
    "#  finding determinant \n",
    "\n",
    "matrix = np.array([[1,2,3],[4,5,6],[7,8,9]])\n",
    "np.linalg.det(matrix)"
   ]
  },
  {
   "cell_type": "code",
   "execution_count": 120,
   "id": "funded-biodiversity",
   "metadata": {},
   "outputs": [
    {
     "data": {
      "text/plain": [
       "2"
      ]
     },
     "execution_count": 120,
     "metadata": {},
     "output_type": "execute_result"
    }
   ],
   "source": [
    "#finding rank of a matrix\n",
    "\n",
    "np.linalg.matrix_rank(matrix)"
   ]
  },
  {
   "cell_type": "code",
   "execution_count": 121,
   "id": "supreme-virgin",
   "metadata": {},
   "outputs": [
    {
     "data": {
      "text/plain": [
       "array([1, 5, 9])"
      ]
     },
     "execution_count": 121,
     "metadata": {},
     "output_type": "execute_result"
    }
   ],
   "source": [
    "#getting the diagonal elements of a matrix\n",
    "\n",
    "\n",
    "matrix.diagonal()"
   ]
  },
  {
   "cell_type": "code",
   "execution_count": 122,
   "id": "simple-harvard",
   "metadata": {},
   "outputs": [
    {
     "data": {
      "text/plain": [
       "array([2, 6])"
      ]
     },
     "execution_count": 122,
     "metadata": {},
     "output_type": "execute_result"
    }
   ],
   "source": [
    "# printing the diagonal one below the principal diagonal \n",
    "\n",
    "matrix.diagonal(offset=1)"
   ]
  },
  {
   "cell_type": "code",
   "execution_count": 123,
   "id": "global-outside",
   "metadata": {},
   "outputs": [
    {
     "data": {
      "text/plain": [
       "array([4, 8])"
      ]
     },
     "execution_count": 123,
     "metadata": {},
     "output_type": "execute_result"
    }
   ],
   "source": [
    "#getting the diagonal one below the principal diagona\n",
    "\n",
    "\n",
    "matrix.diagonal(offset= -1)"
   ]
  },
  {
   "cell_type": "code",
   "execution_count": 124,
   "id": "consecutive-flour",
   "metadata": {},
   "outputs": [
    {
     "data": {
      "text/plain": [
       "15"
      ]
     },
     "execution_count": 124,
     "metadata": {},
     "output_type": "execute_result"
    }
   ],
   "source": [
    "# calculating trace of a matrix\n",
    "\n",
    "\n",
    "matrix.trace()"
   ]
  },
  {
   "cell_type": "code",
   "execution_count": 125,
   "id": "intelligent-wednesday",
   "metadata": {},
   "outputs": [
    {
     "data": {
      "text/plain": [
       "(array([ 1.61168440e+01, -1.11684397e+00, -1.30367773e-15]),\n",
       " array([[-0.23197069, -0.78583024,  0.40824829],\n",
       "        [-0.52532209, -0.08675134, -0.81649658],\n",
       "        [-0.8186735 ,  0.61232756,  0.40824829]]))"
      ]
     },
     "execution_count": 125,
     "metadata": {},
     "output_type": "execute_result"
    }
   ],
   "source": [
    "# finding eigenvalues and eigenvectors \n",
    "\n",
    "\n",
    "eigenvalues,eigenvectors = np.linalg.eig(matrix)\n",
    "eigenvalues,eigenvectors"
   ]
  },
  {
   "cell_type": "code",
   "execution_count": 126,
   "id": "elementary-basin",
   "metadata": {},
   "outputs": [
    {
     "data": {
      "text/plain": [
       "94"
      ]
     },
     "execution_count": 126,
     "metadata": {},
     "output_type": "execute_result"
    }
   ],
   "source": [
    "# calculating dot products \n",
    "\n",
    "vect_1 = np.array([3,4,5,7,8])\n",
    "vect_2 = np.array([1,2,3,4,5])\n",
    "np.dot(vect_1,vect_2)"
   ]
  },
  {
   "cell_type": "code",
   "execution_count": 127,
   "id": "ceramic-brief",
   "metadata": {},
   "outputs": [
    {
     "data": {
      "text/plain": [
       "94"
      ]
     },
     "execution_count": 127,
     "metadata": {},
     "output_type": "execute_result"
    }
   ],
   "source": [
    "# also used to calculate dot product \n",
    "\n",
    "(vect_1 @ vect_2)"
   ]
  },
  {
   "cell_type": "code",
   "execution_count": 129,
   "id": "subjective-douglas",
   "metadata": {},
   "outputs": [
    {
     "data": {
      "text/plain": [
       "array([[ 8, 10, 12],\n",
       "       [ 8, 10, 12],\n",
       "       [ 8, 10, 12]])"
      ]
     },
     "execution_count": 129,
     "metadata": {},
     "output_type": "execute_result"
    }
   ],
   "source": [
    "# adding two matrices \n",
    "\n",
    "m1 = np.array([[1,2,3],[4,5,6],[7,8,9]])\n",
    "m2 = np.array([[7,8,9],[4,5,6],[1,2,3]])\n",
    "\n",
    "np.add(m1,m2)"
   ]
  },
  {
   "cell_type": "code",
   "execution_count": 130,
   "id": "accepting-kinase",
   "metadata": {},
   "outputs": [
    {
     "data": {
      "text/plain": [
       "array([[ 7, 16, 27],\n",
       "       [16, 25, 36],\n",
       "       [ 7, 16, 27]])"
      ]
     },
     "execution_count": 130,
     "metadata": {},
     "output_type": "execute_result"
    }
   ],
   "source": [
    "# multiplication elementwise and not dot product \n",
    "\n",
    "m1 * m2"
   ]
  },
  {
   "cell_type": "code",
   "execution_count": 131,
   "id": "understood-simpson",
   "metadata": {},
   "outputs": [
    {
     "data": {
      "text/plain": [
       "array([[-4.50359963e+15,  9.00719925e+15, -4.50359963e+15],\n",
       "       [ 9.00719925e+15, -1.80143985e+16,  9.00719925e+15],\n",
       "       [-4.50359963e+15,  9.00719925e+15, -4.50359963e+15]])"
      ]
     },
     "execution_count": 131,
     "metadata": {},
     "output_type": "execute_result"
    }
   ],
   "source": [
    "# inverting a matrix \n",
    "\n",
    "\n",
    "np.linalg.inv(m1)"
   ]
  },
  {
   "cell_type": "code",
   "execution_count": 132,
   "id": "local-establishment",
   "metadata": {},
   "outputs": [
    {
     "data": {
      "text/plain": [
       "array([[-4.50359963e+15,  9.00719925e+15, -4.50359963e+15],\n",
       "       [ 9.00719925e+15, -1.80143985e+16,  9.00719925e+15],\n",
       "       [-4.50359963e+15,  9.00719925e+15, -4.50359963e+15]])"
      ]
     },
     "execution_count": 132,
     "metadata": {},
     "output_type": "execute_result"
    }
   ],
   "source": [
    "np.linalg.inv(m2)"
   ]
  },
  {
   "cell_type": "code",
   "execution_count": null,
   "id": "linear-forest",
   "metadata": {},
   "outputs": [],
   "source": []
  }
 ],
 "metadata": {
  "kernelspec": {
   "display_name": "Python 3",
   "language": "python",
   "name": "python3"
  },
  "language_info": {
   "codemirror_mode": {
    "name": "ipython",
    "version": 3
   },
   "file_extension": ".py",
   "mimetype": "text/x-python",
   "name": "python",
   "nbconvert_exporter": "python",
   "pygments_lexer": "ipython3",
   "version": "3.8.5"
  }
 },
 "nbformat": 4,
 "nbformat_minor": 5
}
